{
 "cells": [
  {
   "cell_type": "code",
   "execution_count": 57,
   "metadata": {},
   "outputs": [],
   "source": [
    "import os\n",
    "import shutil\n",
    "import numpy as np\n",
    "import matplotlib.pyplot as plt\n",
    "import matplotlib.image as mpimg\n",
    "import tensorflow as tf\n",
    "from tensorflow import keras\n",
    "import pathlib"
   ]
  },
  {
   "cell_type": "markdown",
   "metadata": {},
   "source": [
    "## split and copy paste data\n",
    "\n",
    "copy paste files into os.path.join(asset_path, 'train_data_samples') and os.path.join(asset_path, 'test_data_samples')\n"
   ]
  },
  {
   "cell_type": "markdown",
   "metadata": {},
   "source": [
    "# Split the dataset in data samples\n",
    "\n",
    "(scripts/generated_data_samples.py)\n",
    "\n",
    "## Get data path\n"
   ]
  },
  {
   "cell_type": "code",
   "execution_count": 58,
   "metadata": {},
   "outputs": [
    {
     "output_type": "stream",
     "name": "stdout",
     "text": "/home/fabien/python-projects/substra/substra/examples/mnist/data\n"
    }
   ],
   "source": [
    "notebook_path = os.path.abspath(\"Notebook_MNIST.ipynb\")\n",
    "root_path = os.path.dirname(notebook_path)\n",
    "data_path = os.path.join(root_path, 'data')\n",
    "data_dir = pathlib.Path(data_path)\n",
    "print(data_path)\n"
   ]
  },
  {
   "cell_type": "code",
   "execution_count": 59,
   "metadata": {},
   "outputs": [
    {
     "output_type": "stream",
     "name": "stdout",
     "text": "['0' '1' '2' '3' '4' '5' '6' '7' '8' '9']\n"
    }
   ],
   "source": [
    "CLASS_NAMES = np.array([item.name for item in data_dir.glob('*')])\n",
    "print(CLASS_NAMES)"
   ]
  },
  {
   "cell_type": "code",
   "execution_count": 53,
   "metadata": {},
   "outputs": [],
   "source": [
    "#useful methods from https://www.tensorflow.org/tutorials/load_data/images\n",
    "\n",
    "def get_label(file_path):\n",
    "  # convert the path to a list of path components\n",
    "  parts = tf.strings.split(file_path, os.path.sep)\n",
    "  # The second to last is the class-directory\n",
    "  return parts[-2] == CLASS_NAMES\n",
    "\n",
    "def decode_img(img):\n",
    "  # convert the compressed string to a 3D uint8 tensor\n",
    "  img = tf.image.decode_jpeg(img, channels=3)\n",
    "  # Use `convert_image_dtype` to convert to floats in the [0,1] range.\n",
    "  img = tf.image.convert_image_dtype(img, tf.float32)\n",
    "  # resize the image to the desired size.\n",
    "  return img\n",
    "\n",
    "def process_path(file_path):\n",
    "  label = get_label(file_path)\n",
    "  # load the raw data from the file as a string\n",
    "  img = tf.io.read_file(file_path)\n",
    "  img = decode_img(img)\n",
    "  return img, label"
   ]
  },
  {
   "cell_type": "code",
   "execution_count": 54,
   "metadata": {},
   "outputs": [
    {
     "output_type": "display_data",
     "data": {
      "text/plain": "<Figure size 432x288 with 1 Axes>",
      "image/svg+xml": "<?xml version=\"1.0\" encoding=\"utf-8\" standalone=\"no\"?>\n<!DOCTYPE svg PUBLIC \"-//W3C//DTD SVG 1.1//EN\"\n  \"http://www.w3.org/Graphics/SVG/1.1/DTD/svg11.dtd\">\n<!-- Created with matplotlib (https://matplotlib.org/) -->\n<svg height=\"248.518125pt\" version=\"1.1\" viewBox=\"0 0 251.565 248.518125\" width=\"251.565pt\" xmlns=\"http://www.w3.org/2000/svg\" xmlns:xlink=\"http://www.w3.org/1999/xlink\">\n <defs>\n  <style type=\"text/css\">\n*{stroke-linecap:butt;stroke-linejoin:round;}\n  </style>\n </defs>\n <g id=\"figure_1\">\n  <g id=\"patch_1\">\n   <path d=\"M 0 248.518125 \nL 251.565 248.518125 \nL 251.565 0 \nL 0 0 \nz\n\" style=\"fill:none;\"/>\n  </g>\n  <g id=\"axes_1\">\n   <g id=\"patch_2\">\n    <path d=\"M 26.925 224.64 \nL 244.365 224.64 \nL 244.365 7.2 \nL 26.925 7.2 \nz\n\" style=\"fill:#ffffff;\"/>\n   </g>\n   <g clip-path=\"url(#p528156a239)\">\n    <image height=\"218\" id=\"image70d8f56a61\" transform=\"scale(1 -1)translate(0 -218)\" width=\"218\" x=\"27\" xlink:href=\"data:image/png;base64,\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\" y=\"-6.518125\"/>\n   </g>\n   <g id=\"matplotlib.axis_1\">\n    <g id=\"xtick_1\">\n     <g id=\"line2d_1\">\n      <defs>\n       <path d=\"M 0 0 \nL 0 3.5 \n\" id=\"m5e081b77a7\" style=\"stroke:#000000;stroke-width:0.8;\"/>\n      </defs>\n      <g>\n       <use style=\"stroke:#000000;stroke-width:0.8;\" x=\"30.807857\" xlink:href=\"#m5e081b77a7\" y=\"224.64\"/>\n      </g>\n     </g>\n     <g id=\"text_1\">\n      <!-- 0 -->\n      <defs>\n       <path d=\"M 31.78125 66.40625 \nQ 24.171875 66.40625 20.328125 58.90625 \nQ 16.5 51.421875 16.5 36.375 \nQ 16.5 21.390625 20.328125 13.890625 \nQ 24.171875 6.390625 31.78125 6.390625 \nQ 39.453125 6.390625 43.28125 13.890625 \nQ 47.125 21.390625 47.125 36.375 \nQ 47.125 51.421875 43.28125 58.90625 \nQ 39.453125 66.40625 31.78125 66.40625 \nz\nM 31.78125 74.21875 \nQ 44.046875 74.21875 50.515625 64.515625 \nQ 56.984375 54.828125 56.984375 36.375 \nQ 56.984375 17.96875 50.515625 8.265625 \nQ 44.046875 -1.421875 31.78125 -1.421875 \nQ 19.53125 -1.421875 13.0625 8.265625 \nQ 6.59375 17.96875 6.59375 36.375 \nQ 6.59375 54.828125 13.0625 64.515625 \nQ 19.53125 74.21875 31.78125 74.21875 \nz\n\" id=\"DejaVuSans-48\"/>\n      </defs>\n      <g transform=\"translate(27.626607 239.238437)scale(0.1 -0.1)\">\n       <use xlink:href=\"#DejaVuSans-48\"/>\n      </g>\n     </g>\n    </g>\n    <g id=\"xtick_2\">\n     <g id=\"line2d_2\">\n      <g>\n       <use style=\"stroke:#000000;stroke-width:0.8;\" x=\"69.636429\" xlink:href=\"#m5e081b77a7\" y=\"224.64\"/>\n      </g>\n     </g>\n     <g id=\"text_2\">\n      <!-- 5 -->\n      <defs>\n       <path d=\"M 10.796875 72.90625 \nL 49.515625 72.90625 \nL 49.515625 64.59375 \nL 19.828125 64.59375 \nL 19.828125 46.734375 \nQ 21.96875 47.46875 24.109375 47.828125 \nQ 26.265625 48.1875 28.421875 48.1875 \nQ 40.625 48.1875 47.75 41.5 \nQ 54.890625 34.8125 54.890625 23.390625 \nQ 54.890625 11.625 47.5625 5.09375 \nQ 40.234375 -1.421875 26.90625 -1.421875 \nQ 22.3125 -1.421875 17.546875 -0.640625 \nQ 12.796875 0.140625 7.71875 1.703125 \nL 7.71875 11.625 \nQ 12.109375 9.234375 16.796875 8.0625 \nQ 21.484375 6.890625 26.703125 6.890625 \nQ 35.15625 6.890625 40.078125 11.328125 \nQ 45.015625 15.765625 45.015625 23.390625 \nQ 45.015625 31 40.078125 35.4375 \nQ 35.15625 39.890625 26.703125 39.890625 \nQ 22.75 39.890625 18.8125 39.015625 \nQ 14.890625 38.140625 10.796875 36.28125 \nz\n\" id=\"DejaVuSans-53\"/>\n      </defs>\n      <g transform=\"translate(66.455179 239.238437)scale(0.1 -0.1)\">\n       <use xlink:href=\"#DejaVuSans-53\"/>\n      </g>\n     </g>\n    </g>\n    <g id=\"xtick_3\">\n     <g id=\"line2d_3\">\n      <g>\n       <use style=\"stroke:#000000;stroke-width:0.8;\" x=\"108.465\" xlink:href=\"#m5e081b77a7\" y=\"224.64\"/>\n      </g>\n     </g>\n     <g id=\"text_3\">\n      <!-- 10 -->\n      <defs>\n       <path d=\"M 12.40625 8.296875 \nL 28.515625 8.296875 \nL 28.515625 63.921875 \nL 10.984375 60.40625 \nL 10.984375 69.390625 \nL 28.421875 72.90625 \nL 38.28125 72.90625 \nL 38.28125 8.296875 \nL 54.390625 8.296875 \nL 54.390625 0 \nL 12.40625 0 \nz\n\" id=\"DejaVuSans-49\"/>\n      </defs>\n      <g transform=\"translate(102.1025 239.238437)scale(0.1 -0.1)\">\n       <use xlink:href=\"#DejaVuSans-49\"/>\n       <use x=\"63.623047\" xlink:href=\"#DejaVuSans-48\"/>\n      </g>\n     </g>\n    </g>\n    <g id=\"xtick_4\">\n     <g id=\"line2d_4\">\n      <g>\n       <use style=\"stroke:#000000;stroke-width:0.8;\" x=\"147.293571\" xlink:href=\"#m5e081b77a7\" y=\"224.64\"/>\n      </g>\n     </g>\n     <g id=\"text_4\">\n      <!-- 15 -->\n      <g transform=\"translate(140.931071 239.238437)scale(0.1 -0.1)\">\n       <use xlink:href=\"#DejaVuSans-49\"/>\n       <use x=\"63.623047\" xlink:href=\"#DejaVuSans-53\"/>\n      </g>\n     </g>\n    </g>\n    <g id=\"xtick_5\">\n     <g id=\"line2d_5\">\n      <g>\n       <use style=\"stroke:#000000;stroke-width:0.8;\" x=\"186.122143\" xlink:href=\"#m5e081b77a7\" y=\"224.64\"/>\n      </g>\n     </g>\n     <g id=\"text_5\">\n      <!-- 20 -->\n      <defs>\n       <path d=\"M 19.1875 8.296875 \nL 53.609375 8.296875 \nL 53.609375 0 \nL 7.328125 0 \nL 7.328125 8.296875 \nQ 12.9375 14.109375 22.625 23.890625 \nQ 32.328125 33.6875 34.8125 36.53125 \nQ 39.546875 41.84375 41.421875 45.53125 \nQ 43.3125 49.21875 43.3125 52.78125 \nQ 43.3125 58.59375 39.234375 62.25 \nQ 35.15625 65.921875 28.609375 65.921875 \nQ 23.96875 65.921875 18.8125 64.3125 \nQ 13.671875 62.703125 7.8125 59.421875 \nL 7.8125 69.390625 \nQ 13.765625 71.78125 18.9375 73 \nQ 24.125 74.21875 28.421875 74.21875 \nQ 39.75 74.21875 46.484375 68.546875 \nQ 53.21875 62.890625 53.21875 53.421875 \nQ 53.21875 48.921875 51.53125 44.890625 \nQ 49.859375 40.875 45.40625 35.40625 \nQ 44.1875 33.984375 37.640625 27.21875 \nQ 31.109375 20.453125 19.1875 8.296875 \nz\n\" id=\"DejaVuSans-50\"/>\n      </defs>\n      <g transform=\"translate(179.759643 239.238437)scale(0.1 -0.1)\">\n       <use xlink:href=\"#DejaVuSans-50\"/>\n       <use x=\"63.623047\" xlink:href=\"#DejaVuSans-48\"/>\n      </g>\n     </g>\n    </g>\n    <g id=\"xtick_6\">\n     <g id=\"line2d_6\">\n      <g>\n       <use style=\"stroke:#000000;stroke-width:0.8;\" x=\"224.950714\" xlink:href=\"#m5e081b77a7\" y=\"224.64\"/>\n      </g>\n     </g>\n     <g id=\"text_6\">\n      <!-- 25 -->\n      <g transform=\"translate(218.588214 239.238437)scale(0.1 -0.1)\">\n       <use xlink:href=\"#DejaVuSans-50\"/>\n       <use x=\"63.623047\" xlink:href=\"#DejaVuSans-53\"/>\n      </g>\n     </g>\n    </g>\n   </g>\n   <g id=\"matplotlib.axis_2\">\n    <g id=\"ytick_1\">\n     <g id=\"line2d_7\">\n      <defs>\n       <path d=\"M 0 0 \nL -3.5 0 \n\" id=\"m69aee4e84d\" style=\"stroke:#000000;stroke-width:0.8;\"/>\n      </defs>\n      <g>\n       <use style=\"stroke:#000000;stroke-width:0.8;\" x=\"26.925\" xlink:href=\"#m69aee4e84d\" y=\"11.082857\"/>\n      </g>\n     </g>\n     <g id=\"text_7\">\n      <!-- 0 -->\n      <g transform=\"translate(13.5625 14.882076)scale(0.1 -0.1)\">\n       <use xlink:href=\"#DejaVuSans-48\"/>\n      </g>\n     </g>\n    </g>\n    <g id=\"ytick_2\">\n     <g id=\"line2d_8\">\n      <g>\n       <use style=\"stroke:#000000;stroke-width:0.8;\" x=\"26.925\" xlink:href=\"#m69aee4e84d\" y=\"49.911429\"/>\n      </g>\n     </g>\n     <g id=\"text_8\">\n      <!-- 5 -->\n      <g transform=\"translate(13.5625 53.710647)scale(0.1 -0.1)\">\n       <use xlink:href=\"#DejaVuSans-53\"/>\n      </g>\n     </g>\n    </g>\n    <g id=\"ytick_3\">\n     <g id=\"line2d_9\">\n      <g>\n       <use style=\"stroke:#000000;stroke-width:0.8;\" x=\"26.925\" xlink:href=\"#m69aee4e84d\" y=\"88.74\"/>\n      </g>\n     </g>\n     <g id=\"text_9\">\n      <!-- 10 -->\n      <g transform=\"translate(7.2 92.539219)scale(0.1 -0.1)\">\n       <use xlink:href=\"#DejaVuSans-49\"/>\n       <use x=\"63.623047\" xlink:href=\"#DejaVuSans-48\"/>\n      </g>\n     </g>\n    </g>\n    <g id=\"ytick_4\">\n     <g id=\"line2d_10\">\n      <g>\n       <use style=\"stroke:#000000;stroke-width:0.8;\" x=\"26.925\" xlink:href=\"#m69aee4e84d\" y=\"127.568571\"/>\n      </g>\n     </g>\n     <g id=\"text_10\">\n      <!-- 15 -->\n      <g transform=\"translate(7.2 131.36779)scale(0.1 -0.1)\">\n       <use xlink:href=\"#DejaVuSans-49\"/>\n       <use x=\"63.623047\" xlink:href=\"#DejaVuSans-53\"/>\n      </g>\n     </g>\n    </g>\n    <g id=\"ytick_5\">\n     <g id=\"line2d_11\">\n      <g>\n       <use style=\"stroke:#000000;stroke-width:0.8;\" x=\"26.925\" xlink:href=\"#m69aee4e84d\" y=\"166.397143\"/>\n      </g>\n     </g>\n     <g id=\"text_11\">\n      <!-- 20 -->\n      <g transform=\"translate(7.2 170.196362)scale(0.1 -0.1)\">\n       <use xlink:href=\"#DejaVuSans-50\"/>\n       <use x=\"63.623047\" xlink:href=\"#DejaVuSans-48\"/>\n      </g>\n     </g>\n    </g>\n    <g id=\"ytick_6\">\n     <g id=\"line2d_12\">\n      <g>\n       <use style=\"stroke:#000000;stroke-width:0.8;\" x=\"26.925\" xlink:href=\"#m69aee4e84d\" y=\"205.225714\"/>\n      </g>\n     </g>\n     <g id=\"text_12\">\n      <!-- 25 -->\n      <g transform=\"translate(7.2 209.024933)scale(0.1 -0.1)\">\n       <use xlink:href=\"#DejaVuSans-50\"/>\n       <use x=\"63.623047\" xlink:href=\"#DejaVuSans-53\"/>\n      </g>\n     </g>\n    </g>\n   </g>\n   <g id=\"patch_3\">\n    <path d=\"M 26.925 224.64 \nL 26.925 7.2 \n\" style=\"fill:none;stroke:#000000;stroke-linecap:square;stroke-linejoin:miter;stroke-width:0.8;\"/>\n   </g>\n   <g id=\"patch_4\">\n    <path d=\"M 244.365 224.64 \nL 244.365 7.2 \n\" style=\"fill:none;stroke:#000000;stroke-linecap:square;stroke-linejoin:miter;stroke-width:0.8;\"/>\n   </g>\n   <g id=\"patch_5\">\n    <path d=\"M 26.925 224.64 \nL 244.365 224.64 \n\" style=\"fill:none;stroke:#000000;stroke-linecap:square;stroke-linejoin:miter;stroke-width:0.8;\"/>\n   </g>\n   <g id=\"patch_6\">\n    <path d=\"M 26.925 7.2 \nL 244.365 7.2 \n\" style=\"fill:none;stroke:#000000;stroke-linecap:square;stroke-linejoin:miter;stroke-width:0.8;\"/>\n   </g>\n  </g>\n </g>\n <defs>\n  <clipPath id=\"p528156a239\">\n   <rect height=\"217.44\" width=\"217.44\" x=\"26.925\" y=\"7.2\"/>\n  </clipPath>\n </defs>\n</svg>\n",
      "image/png": "[encoded data removed]"
     },
     "metadata": {
      "needs_background": "light"
     }
    }
   ],
   "source": [
    "# number of data samples for the train and test sets\n",
    "N_TRAIN_DATA_SAMPLES = 10\n",
    "N_TEST_DATA_SAMPLES = 2\n",
    "import time\n",
    "src_files = os.listdir(data_path)\n",
    "asset_path = os.path.join(root_path, '/assets')\n",
    "\n",
    "for folder in src_files :\n",
    "    folder_path = os.path.join(data_path,folder)\n",
    "    files = os.listdir(folder_path)\n",
    "    for data_file in files :\n",
    "        data_file_path=os.path.join(folder_path,data_file)\n",
    "        img=mpimg.imread(data_file_path)\n",
    "        #print(data_file)\n",
    "        plt.imshow(img)\n"
   ]
  },
  {
   "cell_type": "code",
   "execution_count": 55,
   "metadata": {},
   "outputs": [
    {
     "output_type": "stream",
     "name": "stdout",
     "text": "b'/home/fabien/python-projects/substra/substra/examples/mnist/data/7/img_120.jpg'\nb'/home/fabien/python-projects/substra/substra/examples/mnist/data/4/img_3.jpg'\nb'/home/fabien/python-projects/substra/substra/examples/mnist/data/2/img_370.jpg'\nb'/home/fabien/python-projects/substra/substra/examples/mnist/data/5/img_244.jpg'\nb'/home/fabien/python-projects/substra/substra/examples/mnist/data/7/img_102.jpg'\n"
    }
   ],
   "source": [
    "\n",
    "list_ds = tf.data.Dataset.list_files(str(data_dir/'*/*'))\n",
    "\n",
    "for f in list_ds.take(5):\n",
    "  print(f.numpy())\n",
    " "
   ]
  },
  {
   "cell_type": "code",
   "execution_count": 56,
   "metadata": {},
   "outputs": [
    {
     "output_type": "stream",
     "name": "stdout",
     "text": "Image shape:  (28, 28, 3)\nLabel:  [False False  True False False False False False False False]\n"
    }
   ],
   "source": [
    " \n",
    "AUTOTUNE = tf.data.experimental.AUTOTUNE\n",
    "labeled_ds = list_ds.map(process_path, num_parallel_calls=AUTOTUNE)\n",
    "for image, label in labeled_ds.take(1):\n",
    "  print(\"Image shape: \", image.numpy().shape)\n",
    "  print(\"Label: \", label.numpy())"
   ]
  },
  {
   "cell_type": "code",
   "execution_count": null,
   "metadata": {},
   "outputs": [],
   "source": []
  }
 ],
 "metadata": {
  "kernelspec": {
   "display_name": "Python 3.8.2 64-bit",
   "language": "python",
   "name": "python38264bit5e898ba9a75a4748a84f6c1c95b4bb50"
  },
  "language_info": {
   "codemirror_mode": {
    "name": "ipython",
    "version": 3
   },
   "file_extension": ".py",
   "mimetype": "text/x-python",
   "name": "python",
   "nbconvert_exporter": "python",
   "pygments_lexer": "ipython3",
   "version": "3.8.2-final"
  }
 },
 "nbformat": 4,
 "nbformat_minor": 4
}